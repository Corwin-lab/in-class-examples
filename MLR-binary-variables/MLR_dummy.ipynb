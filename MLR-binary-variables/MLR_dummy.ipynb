{
 "cells": [
  {
   "cell_type": "markdown",
   "metadata": {},
   "source": [
    "## Introduction\n",
    "\n",
    "This in-class example demonstrates how to incorporate qualitative explanatory variables into a multiple linear regression model. It covers most all of the popular ways that binary (dummy) variables are included in a regression model.\n",
    "\n",
    "What you need to know:  \n",
    "- Statsmodels and pandas modules in Python\n",
    "- Theoretical concepts on multiple linear regression model\n",
    "- How to create and work with binary (dummy) variables\n",
    "\n",
    "The list of [references](#References) for detailed concepts and techniques used in this exerise."
   ]
  },
  {
   "cell_type": "markdown",
   "metadata": {},
   "source": [
    "***\n",
    "\n",
    "## Data Description\n",
    "\n",
    "| Name | Description |\n",
    "| :--- | :--- |\n",
    "| wage | average hourly earnings |\n",
    "| educ | years of education |\n",
    "| exper | years potential experience |\n",
    "| tenure | years with current employer |\n",
    "| nonwhite | =1 if nonwhite |\n",
    "| female | =1 if female |\n",
    "| married | =1 if married |\n",
    "| numdep | number of dependents |\n",
    "| smsa | =1 if live in SMSA |\n",
    "| northcen | =1 if live in north central U.S |\n",
    "| south | =1 if live in southern region |\n",
    "| west | =1 if live in western region |\n",
    "| construc | =1 if work in construc. indus. |\n",
    "| ndurman | =1 if in nondur. manuf. indus. |\n",
    "| trcommpu | =1 if in trans, commun, pub ut |\n",
    "| trade | =1 if in wholesale or retail |\n",
    "| services | =1 if in services indus. |\n",
    "| profserv | =1 if in prof. serv. indus. |\n",
    "| profocc | =1 if in profess. occupation |\n",
    "| clerocc | =1 if in clerical occupation |\n",
    "| servocc | =1 if in service occupation |\n",
    "| lwage | log(wage) |\n",
    "| expersq | exper^2 |\n",
    "| tenursq | tenure^2 |"
   ]
  },
  {
   "cell_type": "markdown",
   "metadata": {},
   "source": [
    "***\n",
    "## Load the required modules"
   ]
  },
  {
   "cell_type": "code",
   "execution_count": null,
   "metadata": {},
   "outputs": [],
   "source": [
    "import math\n",
    "import numpy as np\n",
    "import pandas as pd\n",
    "import statsmodels\n",
    "import statsmodels.api as sm\n",
    "import statsmodels.formula.api as smf"
   ]
  },
  {
   "cell_type": "markdown",
   "metadata": {},
   "source": [
    "***\n",
    "## Load the data set\n",
    "The data set is contained in a comma-separated value (csv) file named ```WAGE.csv``` with column header. "
   ]
  },
  {
   "cell_type": "code",
   "execution_count": null,
   "metadata": {},
   "outputs": [],
   "source": []
  },
  {
   "cell_type": "markdown",
   "metadata": {},
   "source": [
    "#### Check if the data is properly imported"
   ]
  },
  {
   "cell_type": "code",
   "execution_count": null,
   "metadata": {},
   "outputs": [],
   "source": []
  },
  {
   "cell_type": "markdown",
   "metadata": {},
   "source": [
    "Summary statistics for women:"
   ]
  },
  {
   "cell_type": "code",
   "execution_count": null,
   "metadata": {},
   "outputs": [],
   "source": []
  },
  {
   "cell_type": "markdown",
   "metadata": {},
   "source": [
    "Summary statistics for men:"
   ]
  },
  {
   "cell_type": "code",
   "execution_count": null,
   "metadata": {},
   "outputs": [],
   "source": []
  },
  {
   "cell_type": "markdown",
   "metadata": {},
   "source": [
    "***\n",
    "## Single dummy independent variable"
   ]
  },
  {
   "cell_type": "markdown",
   "metadata": {},
   "source": [
    "Estimate the model \n",
    "$$wage = \\beta_0 + \\delta_0 female + \\beta_1 educ + \\beta_2 exper + \\beta_3 tenure + u.$$"
   ]
  },
  {
   "cell_type": "code",
   "execution_count": null,
   "metadata": {},
   "outputs": [],
   "source": []
  },
  {
   "cell_type": "markdown",
   "metadata": {},
   "source": [
    "The average wage for women in the sample is:"
   ]
  },
  {
   "cell_type": "code",
   "execution_count": null,
   "metadata": {},
   "outputs": [],
   "source": []
  },
  {
   "cell_type": "markdown",
   "metadata": {},
   "source": [
    "Since we have performed a multiple regression that controls for educ, exper, and tenure. The wage differential cannot be explained by\n",
    "different average levels of education, experience, or tenure between men and women. We can conclude that the differential of \\\\$1.81 is due to gender or factors associated with gender\n",
    "that we have not controlled for in the regression."
   ]
  },
  {
   "cell_type": "markdown",
   "metadata": {},
   "source": [
    "Consider a simpler model that all other explanatory variables are dropped from the equation:\n",
    "$$wage = \\beta_0 + \\delta_0 female + u$$\n",
    "\n",
    "The coefficients in this have a simple interpretation. The intercept $\\beta_0$ is the average wage for men in the sample, i.e. $female=0$.\n",
    "\n",
    "It provides a simple way to carry out a *comparison-of-means* test between the two groups, which in this case are men and women.\n",
    "\n",
    "Generally, simple regression on a constant and a dummy variable is a straightforward way to compare the means of two groups."
   ]
  },
  {
   "cell_type": "code",
   "execution_count": null,
   "metadata": {},
   "outputs": [],
   "source": []
  },
  {
   "cell_type": "markdown",
   "metadata": {},
   "source": [
    "The average wage for women in the sample is:"
   ]
  },
  {
   "cell_type": "code",
   "execution_count": null,
   "metadata": {},
   "outputs": [],
   "source": []
  },
  {
   "cell_type": "markdown",
   "metadata": {},
   "source": [
    "The estimated wage differential between men and women is larger because it does not control for differences in education, experience, and tenure,\n",
    "and these are lower, on average, for women than for men in this sample."
   ]
  },
  {
   "cell_type": "markdown",
   "metadata": {},
   "source": [
    "***\n",
    "## Using Dummy Variables for Multiple Categories"
   ]
  },
  {
   "cell_type": "markdown",
   "metadata": {},
   "source": [
    "Consider a model that allows for wage differences among four groups: married men, married women, single men, and single women. To do this, we select single men as our base group and define dummy variables for each of the remaining groups. Call these $marrmale$ (married men), $marrfem$ (married women), and $singfem$ (single women).\n",
    "\n",
    "The model is specified as:\n",
    "$$\\log(wage) = \\beta_0 + \\delta_0 marrmale + \\delta_1 marrfem + \\delta_2 singfem + \\beta_1 educ + \\beta_2 exper + \\beta_3 exper^2 + \\beta_4 tenure + \\beta_5 tenure^2 + u.$$\n",
    "\n",
    "There are multiple ways to generate new dummy variables. \n",
    "\n",
    "For the task at hand, we use Pandas ```get_dummies``` function to expand the variables into multiple dummies."
   ]
  },
  {
   "cell_type": "code",
   "execution_count": null,
   "metadata": {},
   "outputs": [],
   "source": []
  },
  {
   "cell_type": "markdown",
   "metadata": {},
   "source": [
    "Estimate the model:"
   ]
  },
  {
   "cell_type": "code",
   "execution_count": null,
   "metadata": {},
   "outputs": [],
   "source": []
  },
  {
   "cell_type": "markdown",
   "metadata": {},
   "source": [
    "We can use this equation to obtain the estimated difference between any two groups. Because the overall intercept is common to all groups, we can ignore that in finding differences. \n",
    "\n",
    "The estimated proportionate difference between single and married women is $\\delta_2 - \\delta_1$: "
   ]
  },
  {
   "cell_type": "code",
   "execution_count": null,
   "metadata": {},
   "outputs": [],
   "source": []
  },
  {
   "cell_type": "markdown",
   "metadata": {},
   "source": [
    "It means that single women earn about 8.8% more than married women."
   ]
  },
  {
   "cell_type": "markdown",
   "metadata": {},
   "source": [
    "Unfortunately, we cannot the estimation results for testing whether the estimated difference between single and married women is statistically significant. Knowing the standard errors on marrfem and\n",
    "singfem is not enough to carry out the test. The easiest thing to do is to choose one of these groups to be the base group and to reestimate the equation."
   ]
  },
  {
   "cell_type": "code",
   "execution_count": null,
   "metadata": {},
   "outputs": [],
   "source": []
  },
  {
   "cell_type": "markdown",
   "metadata": {},
   "source": [
    "***\n",
    "## Interactions Involving Dummy Variables"
   ]
  },
  {
   "cell_type": "markdown",
   "metadata": {},
   "source": [
    "The section above already demonstrates how to create interactive dummies manually. Sometimes it is helpful to create those variables automatically *within* the model specification. For this purpose, we use the function for generating categorical variables in the ```statsmodels``` module.\n",
    "\n",
    "Consider the model in the previous section:\n",
    "$$\\log(wage) = \\beta_0 + \\delta_0 female + \\delta_1 married + \\delta_2 female \\cdot married + \\beta_1 educ + \\beta_2 exper + \\beta_3 exper^2 + \\beta_4 tenure + \\beta_5 tenure^2 + u.$$\n",
    "\n",
    "We can use the ```C()``` operator to explicitly indicate that $female$ and $married$ should be treated as categorical variables."
   ]
  },
  {
   "cell_type": "code",
   "execution_count": null,
   "metadata": {},
   "outputs": [],
   "source": []
  },
  {
   "cell_type": "markdown",
   "metadata": {},
   "source": [
    "#### Allowing for Different Slopes\n",
    "\n",
    "We can use the same approach for estimating different slopes.\n",
    "\n",
    "Consider the following model:\n",
    "$$\\log(wage) = \\beta_0 + \\delta_0 female + \\beta_1 educ + \\delta_2 female \\cdot educ + \\beta_2 exper + \\beta_3 exper^2 + \\beta_4 tenure + \\beta_5 tenure^2 + u.$$"
   ]
  },
  {
   "cell_type": "code",
   "execution_count": null,
   "metadata": {},
   "outputs": [],
   "source": []
  },
  {
   "cell_type": "markdown",
   "metadata": {},
   "source": [
    "***\n",
    "## References\n",
    "\n",
    "- Jeffrey M. Wooldridge (2019) \"Introductory Econometrics: A Modern Approach, 7e\" Chapter 7.\n",
    "\n",
    "- The pandas development team (2020). \"[pandas-dev/pandas: Pandas](https://pandas.pydata.org/).\" Zenodo.\n",
    "    \n",
    "- Seabold, Skipper, and Josef Perktold (2010). \"[statsmodels: Econometric and statistical modeling with python](https://www.statsmodels.org/stable/examples/notebooks/generated/ols.html).\" Proceedings of the 9th Python in Science Conference."
   ]
  }
 ],
 "metadata": {
  "kernelspec": {
   "display_name": "Python 3",
   "language": "python",
   "name": "python3"
  },
  "language_info": {
   "codemirror_mode": {
    "name": "ipython",
    "version": 3
   },
   "file_extension": ".py",
   "mimetype": "text/x-python",
   "name": "python",
   "nbconvert_exporter": "python",
   "pygments_lexer": "ipython3",
   "version": "3.8.5"
  }
 },
 "nbformat": 4,
 "nbformat_minor": 4
}
